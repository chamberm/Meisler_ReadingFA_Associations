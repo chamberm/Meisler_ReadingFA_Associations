{
 "cells": [
  {
   "cell_type": "markdown",
   "id": "76db6c55",
   "metadata": {},
   "source": [
    "# Analyze phenotypic data\n",
    "### Start by importing packages and loading the dataframe from the previous step"
   ]
  },
  {
   "cell_type": "code",
   "execution_count": 1,
   "id": "874eb60c",
   "metadata": {},
   "outputs": [],
   "source": [
    "import pandas as pd\n",
    "import numpy as np\n",
    "import matplotlib.pyplot as plt\n",
    "import pingouin\n",
    "import seaborn as sns\n",
    "\n",
    "df = pd.read_pickle('df.pkl')"
   ]
  },
  {
   "cell_type": "code",
   "execution_count": 4,
   "id": "9993186c",
   "metadata": {},
   "outputs": [
    {
     "name": "stdout",
     "output_type": "stream",
     "text": [
      "105.0 58.0 342.0 181.0\n"
     ]
    }
   ],
   "source": [
    "# Get number of male and females in the low and high TOWRE groups\n",
    "m_low_t = sum(inds_low_t) - sum(df[inds_low_t]['SEX'])\n",
    "f_low_t = sum(inds_low_t) - m_low_t\n",
    "m_high_t = sum(inds_high_t) - sum(df[inds_high_t]['SEX'])\n",
    "f_high_t = sum(inds_high_t) - m_high_t\n",
    "print(m_low_t, f_low_t, m_high_t, f_high_t)"
   ]
  },
  {
   "cell_type": "markdown",
   "id": "b52affae",
   "metadata": {},
   "source": [
    "### Check for group differences (Table 1)"
   ]
  },
  {
   "cell_type": "code",
   "execution_count": 3,
   "id": "15065490",
   "metadata": {},
   "outputs": [
    {
     "name": "stdout",
     "output_type": "stream",
     "text": [
      "AVERAGE AGE: 10.69410603498543 ( 3.0921610553177366 )\n",
      "AVERAGE HAND: 61.77911078717179 ( 50.69374008308745 )\n",
      "AVERAGE gFA: 0.3761593997478485 ( 0.051086898893117905 )\n",
      "AVERAGE TBV: 2183975.252186589 ( 325109.32658847165 ) \n",
      "\n",
      "COMPARE AGE: HIGH T MEAN (SD): 10.857504973231357 ( 3.2002155952461298 ), LOW T MEAN (SD): 10.169826006134969 ( 2.669435882547439 )\n",
      "\n",
      "               T         dof alternative     p-val         CI95%   cohen-d  \\\n",
      "T-test  2.733298  319.722849   two-sided  0.006619  [0.19, 1.18]  0.223071   \n",
      "\n",
      "       BF10     power  \n",
      "T-test  3.7  0.699608  \n",
      "\n",
      "COMPARE HAND: HIGH T MEAN (SD): 61.38483747609943 ( 49.45588498740397 ), LOW T MEAN (SD): 63.04417177914111 ( 54.76249625491039 )\n",
      "\n",
      "               T         dof alternative    p-val          CI95%   cohen-d  \\\n",
      "T-test -0.345432  249.814807   two-sided  0.73006  [-11.12, 7.8]  0.032688   \n",
      "\n",
      "         BF10     power  \n",
      "T-test  0.106  0.065302  \n",
      "\n",
      "COMPARE gFA: HIGH T MEAN (SD): 0.37733173 ( 0.05275477188563018 ), LOW T MEAN (SD): 0.37239838 ( 0.045446159674701454 )\n",
      "\n",
      "               T         dof alternative     p-val         CI95%   cohen-d  \\\n",
      "T-test  1.163047  309.690291   two-sided  0.245706  [-0.0, 0.01]  0.096508   \n",
      "\n",
      "         BF10     power  \n",
      "T-test  0.192  0.189112  \n",
      "\n",
      "COMPARE TBV: HIGH T MEAN (SD): 2211955.248565966 ( 321377.19164675975 ), LOW T MEAN (SD): 2094198.944785276 ( 322704.93848457985 )\n",
      "\n",
      "               T         dof alternative     p-val                 CI95%  \\\n",
      "T-test  4.071789  269.632926   two-sided  0.000061  [60818.5, 174694.11]   \n",
      "\n",
      "         cohen-d     BF10     power  \n",
      "T-test  0.366053  291.026  0.982782  \n"
     ]
    }
   ],
   "source": [
    "# PRINT COHORT-WIDE STATISTICS\n",
    "print('AVERAGE AGE:',np.mean(df['AGE']),'(',np.std(df['AGE']),')')\n",
    "print('AVERAGE HAND:',np.mean(df['HAND']),'(',np.std(df['HAND']),')')\n",
    "print('AVERAGE gFA:',np.mean(df['gFA']),'(',np.std(df['gFA']),')')\n",
    "print('AVERAGE TBV:',np.mean(df['TBV']),'(',np.std(df['TBV']),') \\n')\n",
    "\n",
    "# Get the mean, sum, and std of stats broken down by groups\n",
    "mean_stats_ht_lt = df.groupby('HT_LT').mean()\n",
    "sum_stats_ht_lt = df.groupby('HT_LT').sum()\n",
    "sd_stats_ht_lt = df.groupby('HT_LT').std()\n",
    "\n",
    "# Get indices of high and low TOWRE participants\n",
    "inds_low_t = (df['HT_LT']==1)\n",
    "inds_high_t = (df['HT_LT']==0)\n",
    "\n",
    "# DIFFERENCES IN SEX (Chi-Square)\n",
    "#print('SEX: M HIGH T:',m_high_t,', F HIGH T:',f_high_t,', M LOW T',m_low_t,', F LOW T',f_low_t,'\\n')\n",
    "\n",
    "# DIFFERENCES IN AGE (Welch's t-test)\n",
    "print('COMPARE AGE: HIGH T MEAN (SD):',mean_stats_ht_lt['AGE'][0],'(',sd_stats_ht_lt['AGE'][0],'), LOW T MEAN (SD):', \n",
    "      mean_stats_ht_lt['AGE'][1],'(',sd_stats_ht_lt['AGE'][1],')\\n')\n",
    "print(str(pingouin.ttest(df['AGE'][inds_high_t], df['AGE'][inds_low_t]))+'\\n')\n",
    "\n",
    "# DIFFERENCES IN HANDEDNESS (Welch's t-test)\n",
    "print('COMPARE HAND: HIGH T MEAN (SD):',mean_stats_ht_lt['HAND'][0],'(',sd_stats_ht_lt['HAND'][0],'), LOW T MEAN (SD):', \n",
    "      mean_stats_ht_lt['HAND'][1],'(',sd_stats_ht_lt['HAND'][1],')\\n')\n",
    "print(str(pingouin.ttest(df['HAND'][inds_high_t], df['HAND'][inds_low_t]))+'\\n')\n",
    "\n",
    "# DIFFERENCES IN gFA (Welch's t-test)\n",
    "print('COMPARE gFA: HIGH T MEAN (SD):',mean_stats_ht_lt['gFA'][0],'(',sd_stats_ht_lt['gFA'][0],'), LOW T MEAN (SD):', \n",
    "      mean_stats_ht_lt['gFA'][1],'(',sd_stats_ht_lt['gFA'][1],')\\n')\n",
    "print(str(pingouin.ttest(df['gFA'][inds_high_t], df['gFA'][inds_low_t]))+'\\n')\n",
    "\n",
    "# DIFFERENCES IN TBV (Welch's t-test)\n",
    "print('COMPARE TBV: HIGH T MEAN (SD):',mean_stats_ht_lt['TBV'][0],'(',sd_stats_ht_lt['TBV'][0],'), LOW T MEAN (SD):', \n",
    "      mean_stats_ht_lt['TBV'][1],'(',sd_stats_ht_lt['TBV'][1],')\\n')\n",
    "print(str(pingouin.ttest(df['TBV'][inds_high_t], df['TBV'][inds_low_t])))"
   ]
  },
  {
   "cell_type": "markdown",
   "id": "2b449926",
   "metadata": {},
   "source": [
    "### Plot TOWRE Distribution (Figure 1)"
   ]
  },
  {
   "cell_type": "code",
   "execution_count": null,
   "id": "5d827fbb",
   "metadata": {},
   "outputs": [],
   "source": [
    "font = {'family' : 'DejaVu Sans',\n",
    "        'weight' : 'bold',\n",
    "        'size'   : 22}\n",
    "sns.set(font_scale=1.3)\n",
    "sns.set_style(\"white\")\n",
    "plt.rc('font', **font)\n",
    "t_plot = sns.displot(df, x=\"TOWRE\", hue=\"TR_RD\",bins=20)\n",
    "t_plot._legend.remove()\n",
    "plt.vlines(85,0,90,'k',linewidth=5,linestyle=':')\n",
    "plt.ylim([0,80])\n",
    "plt.xlabel('TOWRE Total Score, Standardized',fontsize=20,fontweight='bold')\n",
    "plt.ylabel('Number of Participants',fontsize=20,fontweight='bold')\n",
    "plt.savefig('TOWRE.pdf') # use Adobe Illustrator to convert to EPS in order to keep transparent background\n",
    "plt.show()"
   ]
  }
 ],
 "metadata": {
  "kernelspec": {
   "display_name": "nipype",
   "language": "python",
   "name": "nipype"
  },
  "language_info": {
   "codemirror_mode": {
    "name": "ipython",
    "version": 3
   },
   "file_extension": ".py",
   "mimetype": "text/x-python",
   "name": "python",
   "nbconvert_exporter": "python",
   "pygments_lexer": "ipython3",
   "version": "3.8.12"
  }
 },
 "nbformat": 4,
 "nbformat_minor": 5
}
