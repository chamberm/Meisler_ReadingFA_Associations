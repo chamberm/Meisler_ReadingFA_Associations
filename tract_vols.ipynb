{
 "cells": [
  {
   "cell_type": "code",
   "execution_count": null,
   "id": "e504c893",
   "metadata": {},
   "outputs": [],
   "source": [
    "import pandas as pd\n",
    "import numpy as np\n",
    "import os\n",
    "import glob\n",
    "import filecmp\n",
    "import json\n",
    "import nilearn\n",
    "import nilearn.image\n",
    "import fsl\n",
    "import fsl.wrappers\n",
    "import fsl.utils.image.resample\n",
    "from fsl.data.image import Image\n",
    "df = pd.read_pickle('df.pkl')"
   ]
  },
  {
   "cell_type": "code",
   "execution_count": null,
   "id": "8f0a1fc1",
   "metadata": {},
   "outputs": [],
   "source": [
    "# CHANGE THIS VARIABLE TO REFLECT WHERE YOUR HBN BIDS DATA LIVE ()\n",
    "bids_dir = '/om4/group/gablab/data/HBN/' # Path should end with a '/'\n",
    "tractseg_dir = derivatives_dir+'TractSeg_NEW/'\n",
    "\n",
    "# TRACTS TO ANALYZE\n",
    "tracts = ['AF_left','AF_right','SLF_I_left','SLF_I_right','SLF_II_left','SLF_II_right',\n",
    "         'SLF_III_left','SLF_III_right','ILF_left','ILF_right','IFO_left','IFO_right',\n",
    "         'UF_left','UF_right','SCP_left','SCP_right','ICP_left','ICP_right','MCP','CC_7']\n"
   ]
  },
  {
   "cell_type": "code",
   "execution_count": null,
   "id": "176ee7b8",
   "metadata": {},
   "outputs": [],
   "source": [
    "subs = df['subjects']\n",
    "tract_vol_proportions = {}\n",
    "tracts = ['AF_left','AF_right','SLF_I_left','SLF_I_right','SLF_II_left','SLF_II_right',\n",
    "         'SLF_III_left','SLF_III_right','ILF_left','ILF_right','IFO_left','IFO_right',\n",
    "         'UF_left','UF_right','SCP_left','SCP_right','ICP_left','ICP_right','MCP','CC_7']\n",
    "\n",
    "for tract in tracts:\n",
    "    tract_vol_proportions[tract] = []\n",
    "    \n",
    "for sub in subs:\n",
    "    # Load the white mattter and get number of white matter voxels\n",
    "    wm_mask_path = tractseg_dir+sub+'/dwi/'+sub+'_space-reorient_label-WM_mask.nii.gz'\n",
    "    wm_mask_img = Image(wm_mask_path)\n",
    "    wm_vol = sum(sum(sum(wm_mask_img.data)))\n",
    "    \n",
    "    # Resample tract mask to anatomical space and get proportion of tract voxels to white matter voxels\n",
    "    for tract in tracts:\n",
    "        tract_mask_path = tractseg_dir+sub+'/bundle_segmentations/'+tract+'.nii.gz'\n",
    "        tract_mask_img = Image(tract_mask_path)\n",
    "        tract_mask_resampled = fsl.utils.image.resample.resampleToReference(tract_mask_img, wm_mask_img)[0]\n",
    "        tract_vol = sum(sum(sum(tract_mask_resampled)))\n",
    "        tract_vol_proportions[tract].append(tract_vol/wm_vol)\n",
    "\n",
    "np.save('tract_vols.npy',tract_vols_proportions)"
   ]
  }
 ],
 "metadata": {
  "kernelspec": {
   "display_name": "nipype",
   "language": "python",
   "name": "nipype"
  },
  "language_info": {
   "codemirror_mode": {
    "name": "ipython",
    "version": 3
   },
   "file_extension": ".py",
   "mimetype": "text/x-python",
   "name": "python",
   "nbconvert_exporter": "python",
   "pygments_lexer": "ipython3",
   "version": "3.8.12"
  }
 },
 "nbformat": 4,
 "nbformat_minor": 5
}
