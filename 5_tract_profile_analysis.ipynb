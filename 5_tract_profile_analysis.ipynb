{
 "cells": [
  {
   "cell_type": "markdown",
   "id": "983bae04",
   "metadata": {},
   "source": [
    "# Create TractSeg tract profiles models\n",
    "## This is only used in the supplement\n",
    "### Start by importing packages and loading the dataframe"
   ]
  },
  {
   "cell_type": "code",
   "execution_count": null,
   "id": "94a30bdd",
   "metadata": {},
   "outputs": [],
   "source": [
    "import pandas as pd\n",
    "import numpy as np\n",
    "import sklearn.preprocessing\n",
    "df = pd.read_pickle('df.pkl')"
   ]
  },
  {
   "cell_type": "markdown",
   "id": "d25e19ab",
   "metadata": {},
   "source": [
    "### Text generated from here goes into \"subjects.txt\" (look at code repo or TractSeg documentation for more info)\n",
    "#### Uncomment everything but the model you wish to run\n",
    "#### Use the examples below to make your own models!"
   ]
  },
  {
   "cell_type": "code",
   "execution_count": null,
   "id": "6f954544",
   "metadata": {},
   "outputs": [],
   "source": [
    "df_tractseg = df.copy()\n",
    "factors_corr = ['TOWRE','SEX','HAND','ICV']\n",
    "factors_group = ['SEX','HAND','AGE','gFA','TRRDxSEX']\n",
    "# Demean and rescale all factors\n",
    "factors_corr_normed = sklearn.preprocessing.scale(df_tractseg[factors_corr], with_mean=True, with_std=True, copy=True)\n",
    "factors_group_normed = sklearn.preprocessing.scale(df_tractseg[factors_group], with_mean=True, with_std=True, copy=True)\n",
    "\n",
    "# TOWRE CORRELATION ACROSS WHOLE COHORT\n",
    "for sub,model in zip(df_tractseg['subjects'],factors_corr_normed):\n",
    "    print(sub,model[0],model[1],model[2],model[3])\n",
    "\n",
    "# FA GROUP DIFF - HIGH TOWRE VS. LOW TOWRE\n",
    "#for sub,group,model in zip(df_tractseg['subjects'],df_tractseg['TR_RD'],factors_group_normed):\n",
    "#    print(sub,group,model[0],model[1],model[2],model[3],model[4])\n"
   ]
  }
 ],
 "metadata": {
  "kernelspec": {
   "display_name": "nipype",
   "language": "python",
   "name": "nipype"
  },
  "language_info": {
   "codemirror_mode": {
    "name": "ipython",
    "version": 3
   },
   "file_extension": ".py",
   "mimetype": "text/x-python",
   "name": "python",
   "nbconvert_exporter": "python",
   "pygments_lexer": "ipython3",
   "version": "3.8.12"
  }
 },
 "nbformat": 4,
 "nbformat_minor": 5
}
