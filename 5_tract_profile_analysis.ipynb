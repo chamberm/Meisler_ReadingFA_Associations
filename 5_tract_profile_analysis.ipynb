{
 "cells": [
  {
   "cell_type": "markdown",
   "id": "983bae04",
   "metadata": {},
   "source": [
    "# Create TractSeg tract profiles models\n",
    "## This is only used in the supplement\n",
    "### Start by importing packages and loading the dataframe"
   ]
  },
  {
   "cell_type": "code",
   "execution_count": null,
   "id": "94a30bdd",
   "metadata": {},
   "outputs": [],
   "source": [
    "import pandas as pd\n",
    "import numpy as np\n",
    "df = pd.read_pickle('df.pkl')"
   ]
  },
  {
   "cell_type": "markdown",
   "id": "de0a86a3",
   "metadata": {},
   "source": [
    "## Find subjects with good segmentation for every tract"
   ]
  },
  {
   "cell_type": "markdown",
   "id": "d25e19ab",
   "metadata": {},
   "source": [
    "### Text generated from here goes into \"subjects.txt\" (look at code repo or TractSeg documentation for more info)\n",
    "#### Uncomment everything but the model you wish to run\n",
    "#### Use the examples below to make your own models!"
   ]
  },
  {
   "cell_type": "code",
   "execution_count": null,
   "id": "6f954544",
   "metadata": {},
   "outputs": [],
   "source": [
    "df_tractseg = df.copy()\n",
    "# TOWRE CORRELATION ACROSS WHOLE COHORT\n",
    "#for sub,score,sex_sub,hand_sub,gFA_sub in zip(df_tractseg['subjects'],\n",
    "#    df_tractseg['TOWRE'],df_tractseg['SEX'],df_tractseg['HAND'],df_tractseg['gFA']):\n",
    "#    print(sub,score,int(sex_sub),hand_sub,gFA_sub)\n",
    "\n",
    "# FA GROUP DIFF - HIGH TOWRE VS. LOW TOWRE\n",
    "#for sub,group,sex_sub,hand_sub,gFA_sub in zip(df_tractseg['subjects'],df_tractseg['HT_LT'],\n",
    "#                                              df_tractseg['SEX'],df_tractseg['HAND'],df_tractseg['gFA']):\n",
    "#    print(sub,group,int(sex_sub),hand_sub,gFA_sub)\n"
   ]
  }
 ],
 "metadata": {
  "kernelspec": {
   "display_name": "nipype",
   "language": "python",
   "name": "nipype"
  },
  "language_info": {
   "codemirror_mode": {
    "name": "ipython",
    "version": 3
   },
   "file_extension": ".py",
   "mimetype": "text/x-python",
   "name": "python",
   "nbconvert_exporter": "python",
   "pygments_lexer": "ipython3",
   "version": "3.8.12"
  }
 },
 "nbformat": 4,
 "nbformat_minor": 5
}
