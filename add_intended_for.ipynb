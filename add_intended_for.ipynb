{
 "cells": [
  {
   "cell_type": "code",
   "execution_count": null,
   "metadata": {},
   "outputs": [],
   "source": [
    "import json\n",
    "import os\n",
    "import glob\n",
    "bids = '' # UPDATE THIS TO THE PATH TO YOUR BIDS DIRECTORY WITH A '/' END, e.g. '/DRIVE/DATA/HBN/''\n",
    "subs = glob.glob(bids+'sub*')"
   ]
  },
  {
   "cell_type": "code",
   "execution_count": null,
   "metadata": {},
   "outputs": [],
   "source": [
    "for sub in subs:\n",
    "    # Gather NIFTI files\n",
    "    func_niis = [x.replace(sub+'/','') for x in glob.glob(sub+'/func/*.nii*')]\n",
    "    dwi_niis = [x.replace(sub+'/','') for x in glob.glob(sub+'/dwi/*.nii*')] \n",
    "    # Gather JSON files\n",
    "    fmaps_func_jsons = glob.glob(sub+'/fmap/*fMRI*.json')\n",
    "    fmaps_dwi_jsons = glob.glob(sub+'/fmap/*dwi*.json')\n",
    "    for file in fmaps_func_jsons:\n",
    "        with open(file) as f:\n",
    "            data = json.load(f)\n",
    "        # Update FMRI NIFTIs\n",
    "        IF = {\"IntendedFor\":func_niis}\n",
    "        data.update(IF)\n",
    "        with open(file, 'w') as outfile:\n",
    "            json.dump(data, outfile,indent=2,sort_keys=True)\n",
    "    \n",
    "    for file in fmaps_dwi_jsons:\n",
    "        with open(file) as f:\n",
    "            data = json.load(f)\n",
    "        # Update DWI NIFTIs\n",
    "        IF = {\"IntendedFor\":dwi_niis}\n",
    "        data.update(IF)\n",
    "        with open(file, 'w') as outfile:\n",
    "            json.dump(data, outfile,indent=2,sort_keys=True)"
   ]
  }
 ],
 "metadata": {
  "kernelspec": {
   "display_name": "py3",
   "language": "python",
   "name": "py3"
  },
  "language_info": {
   "codemirror_mode": {
    "name": "ipython",
    "version": 3
   },
   "file_extension": ".py",
   "mimetype": "text/x-python",
   "name": "python",
   "nbconvert_exporter": "python",
   "pygments_lexer": "ipython3",
   "version": "3.7.10"
  }
 },
 "nbformat": 4,
 "nbformat_minor": 4
}
