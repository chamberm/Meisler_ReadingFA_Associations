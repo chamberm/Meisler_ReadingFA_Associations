{
 "cells": [
  {
   "cell_type": "markdown",
   "id": "7c453db6",
   "metadata": {},
   "source": [
    "# Analyze old and young subjects separately (Figure 5)"
   ]
  },
  {
   "cell_type": "code",
   "execution_count": null,
   "id": "5e443bf8",
   "metadata": {},
   "outputs": [],
   "source": [
    "import pandas as pd\n",
    "import numpy as np\n",
    "import matplotlib.pyplot as plt\n",
    "import pingouin\n",
    "import seaborn as sns\n",
    "from sklearn.linear_model import LinearRegression\n",
    "\n",
    "df = pd.read_pickle('df.pkl')\n",
    "tracts = ['AF_left','AF_right','SLF_I_left','SLF_I_right','SLF_II_left','SLF_II_right',\n",
    "         'SLF_III_left','SLF_III_right','ILF_left','ILF_right','IFO_left','IFO_right',\n",
    "         'UF_left','UF_right','SCP_left','SCP_right','ICP_left','ICP_right','MCP','CC_7']"
   ]
  },
  {
   "cell_type": "markdown",
   "id": "792c7737",
   "metadata": {},
   "source": [
    "### Separate the dataframe into young and old"
   ]
  },
  {
   "cell_type": "code",
   "execution_count": null,
   "id": "92c4a9bf",
   "metadata": {},
   "outputs": [],
   "source": [
    "age_cutoff = 9 # in years\n",
    "young_inds = np.where(df['AGE']<age_cutoff)[0]\n",
    "old_inds = np.where(df['AGE']>=age_cutoff)[0]\n",
    "df_y = df.iloc[young_inds] # young dataframe\n",
    "df_o = df.iloc[old_inds] # old dataframe"
   ]
  },
  {
   "cell_type": "markdown",
   "id": "2f761da8",
   "metadata": {},
   "source": [
    "### Run stats and create plots (Figure 5)"
   ]
  },
  {
   "cell_type": "code",
   "execution_count": null,
   "id": "64ca4d28",
   "metadata": {},
   "outputs": [],
   "source": [
    "df = df_o.copy() # df_y.copy() - young, df_o.copy() - old\n",
    "\n",
    "# Plot parameters\n",
    "sns.set(font_scale = 1.5)\n",
    "sns.set_style(\"white\")\n",
    "# Define x_label and group column\n",
    "x_label = 'PDE' # Use composite TOWRE score by defauls\n",
    "hue = 'HT_LT' # Switch to RD_TR to look at clinical diagnoses\n",
    "hue_rev = hue.split('_')[1]+'_'+hue.split('_')[0] # hack to make violinplot order correct\n",
    "\n",
    "# Define covariates for correlation and group difference analyses\n",
    "covars_corr = ['HAND','SEX']\n",
    "covars_group = covars_corr+['AGE']\n",
    "\n",
    "# Initialize output variable for p-values\n",
    "p_vals_corr = []\n",
    "p_vals_group = []\n",
    "\n",
    "for tract in tracts:\n",
    "    #tract=tract+'2' #use tractometry average instead\n",
    "\n",
    "    # Filter out nans and tract mean FAs less than 0.2\n",
    "    valid_inds = np.asarray(np.invert(np.logical_or(df[tract] < .2, np.isnan(df[tract]))))\n",
    "    df_valid = df.iloc[valid_inds,:]\n",
    "    \n",
    "    # Get indices of High and Low TOWRE participants\n",
    "    inds_high_t_td = np.asarray(df_valid[hue] == 0)\n",
    "    inds_low_t_rd = np.asarray(df_valid[hue] == 1)\n",
    "    \n",
    "    # Define y label name (tract FA residuals)\n",
    "    y_label_corr = tract.replace('_',' ')+' residuals corr'\n",
    "    y_label_group = tract.replace('_',' ')+', residuals group'\n",
    "    \n",
    "    # COMPUTE RESIDUALS FOR CORRELATION AND GROUP ANALYSESS\n",
    "    # get residuals after confounds for correlation analyses (no age)\n",
    "    lr_corr = LinearRegression(fit_intercept=True).fit(df_valid[covars_corr], df_valid[tract])\n",
    "    y_predicted_by_confound = lr_corr.coef_ @ df_valid[covars_corr].T\n",
    "    y_corrected = df_valid[tract].T - y_predicted_by_confound\n",
    "    df_valid[y_label_corr] = y_corrected\n",
    "    # get residuals after confounds for group differences (with age)\n",
    "    lr_group = LinearRegression(fit_intercept=True).fit(df_valid[covars_group], df_valid[tract])\n",
    "    y_predicted_by_confound = lr_group.coef_ @ df_valid[covars_group].T\n",
    "    y_corrected = df_valid[tract].T - y_predicted_by_confound\n",
    "    df_valid[y_label_group] = y_corrected\n",
    "    \n",
    "    # Set up plot\n",
    "    g = sns.JointGrid(data=df_valid, x=x_label, y=y_label_corr, hue=hue)\n",
    "    \n",
    "    # Compute correlations\n",
    "    corr = pingouin.corr(x=df_valid[x_label], y=df_valid[y_label_corr], method='skipped')\n",
    "    # Plot whole cohort correlation\n",
    "    sns.regplot(x=x_label, y=y_label_corr, data=df_valid, robust=False, ax=g.ax_joint, \n",
    "                scatter_kws={'s':0}, line_kws={\"color\":\"black\"})\n",
    "    g.ax_joint.set(ylabel='Fractional Anisotropy Residuals')\n",
    "    \n",
    "    # Compute group difference (additionally controlling for age)\n",
    "    group_diff = pingouin.ttest(df_valid.iloc[inds_high_t_td,:][y_label_group],\n",
    "                                df_valid.iloc[inds_low_t_rd,:][y_label_group])\n",
    "    # Plot group difference violin plot\n",
    "    sns.violinplot(data=df_valid, x='all', y=y_label_group, hue='LT_HT', ax=g.ax_marg_y, palette=['cyan','red'])\n",
    "    \n",
    "    # Plot all data points (colored for group)\n",
    "    sns.scatterplot(x=x_label,y=y_label_corr, data=df_valid, hue=hue,ax=g.ax_joint, edgecolor=\"black\", palette=['red','cyan'])\n",
    "    plt.ylim([0,.6])\n",
    "\n",
    "    # Remove legends\n",
    "    legend = g.ax_joint.legend()\n",
    "    legend.remove()\n",
    "    legend = g.ax_marg_y.legend()\n",
    "    legend.remove()\n",
    "\n",
    "    # Add descriptive stats and a title text to the figure\n",
    "    plt.text(-8,-.13,\"Spearman's ρ = \"+str(round(corr['r'][0],2)) + ' ' + \n",
    "             str(corr['CI95%'][0]) + ', p = ' + str(round(corr['p-val'][0],4)))\n",
    "    plt.text(-8,-0.175, 't = '+str(round(group_diff['T'][0],2)) + ' ' +\n",
    "             str(group_diff['CI95%'][0]) + ', p = ' + str(round(group_diff['p-val'][0],3)))\n",
    "    plt.text(-4.5,.65, tract.replace('_',' '), fontsize=30)\n",
    "    #plt.savefig(('figures_OLD/'+tract+'_'+x_label),format='pdf', bbox_inches='tight',pad_inches=.5)\n",
    "    plt.show()\n",
    "    \n",
    "    # Save out p-values\n",
    "    p_vals_corr.append(corr['p-val'])\n",
    "    p_vals_group.append(group_diff['p-val'])"
   ]
  },
  {
   "cell_type": "code",
   "execution_count": null,
   "id": "bb0e7ddd",
   "metadata": {},
   "outputs": [],
   "source": [
    "pingouin.multicomp(p_vals_corr+p_vals_group,alpha=0.05,method='none')"
   ]
  }
 ],
 "metadata": {
  "kernelspec": {
   "display_name": "nipype",
   "language": "python",
   "name": "nipype"
  },
  "language_info": {
   "codemirror_mode": {
    "name": "ipython",
    "version": 3
   },
   "file_extension": ".py",
   "mimetype": "text/x-python",
   "name": "python",
   "nbconvert_exporter": "python",
   "pygments_lexer": "ipython3",
   "version": "3.8.12"
  }
 },
 "nbformat": 4,
 "nbformat_minor": 5
}
