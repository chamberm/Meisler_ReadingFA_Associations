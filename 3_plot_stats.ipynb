{
 "cells": [
  {
   "cell_type": "markdown",
   "id": "6d8b151f",
   "metadata": {},
   "source": [
    "# Plot statistical analyses (correlations and group differences)\n",
    "### Start by importing packages and loading the dataframe from the previous step"
   ]
  },
  {
   "cell_type": "code",
   "execution_count": null,
   "id": "ba7a1eca",
   "metadata": {},
   "outputs": [],
   "source": [
    "import pandas as pd\n",
    "import numpy as np\n",
    "import matplotlib.pyplot as plt\n",
    "import pingouin\n",
    "import seaborn as sns\n",
    "import os\n",
    "import os.path\n",
    "from sklearn.linear_model import LinearRegression\n",
    "\n",
    "df = pd.read_pickle('df.pkl')\n",
    "tracts = ['AF_left','AF_right','SLF_I_left','SLF_I_right','SLF_II_left','SLF_II_right',\n",
    "         'SLF_III_left','SLF_III_right','ILF_left','ILF_right','IFO_left','IFO_right',\n",
    "         'UF_left','UF_right','SCP_left','SCP_right','ICP_left','ICP_right','MCP','CC_7']\n"
   ]
  },
  {
   "cell_type": "markdown",
   "id": "6bffff10",
   "metadata": {},
   "source": [
    "## Here is where you can see how different properties covary with each other (Figure 2)"
   ]
  },
  {
   "cell_type": "code",
   "execution_count": null,
   "id": "dcb0ed53",
   "metadata": {},
   "outputs": [],
   "source": [
    "# Get dataframe with just covariates\n",
    "df_covars = df[['AGE','SEX','HAND','gFA','TBV','TOWRE']]\n",
    "\n",
    "# Calculate correlations across all pairwise columns\n",
    "corr = df_covars.corr(method='spearman')\n",
    "\n",
    "# Generate a mask for the upper triangle\n",
    "mask = np.triu(np.ones_like(corr, dtype=bool))\n",
    "\n",
    "# Set up the matplotlib figure\n",
    "f, ax = plt.subplots(figsize=(11, 9))\n",
    "\n",
    "# Generate a custom diverging colormap\n",
    "cmap = sns.diverging_palette(230, 20, as_cmap=True)\n",
    "\n",
    "# Draw the heatmap with the mask and correct aspect ratio\n",
    "sns.heatmap(corr, mask=mask, cmap=cmap, vmax = .5, vmin = -.5, center=0,\n",
    "            square=True, linewidths=.5, cbar_kws={\"shrink\": .5})\n",
    "#plt.savefig('covars_corr.pdf',format='pdf')\n",
    "plt.show()\n",
    "pingouin.rcorr(df_covars,method='spearman',padjust='fdr_bh')"
   ]
  },
  {
   "cell_type": "code",
   "execution_count": null,
   "id": "6c41c1d4",
   "metadata": {},
   "outputs": [],
   "source": [
    "#df['GRPxSEX'] = df['HT_LT']*df['SEX']"
   ]
  },
  {
   "cell_type": "markdown",
   "id": "28d7e868",
   "metadata": {},
   "source": [
    "## If you want to visuzlize any of the above relationships, do it here. This is just exploratory"
   ]
  },
  {
   "cell_type": "code",
   "execution_count": null,
   "id": "6c4c9eb1",
   "metadata": {},
   "outputs": [],
   "source": [
    "sns.set(rc={'figure.figsize':(11.7,8.27)})\n",
    "sns.set(font_scale = 2)\n",
    "sns.set_style(\"white\") # Format background style\n",
    "\n",
    "x_label = 'AGE' # Set independent variable\n",
    "covars = ['gFA'] # Set covariates\n",
    "y = 'TBV' # Set dependent variable\n",
    "y_label = y+' residuals'\n",
    "\n",
    "# FIT THE REGRESSION WITH COVARIATES TO CALCULATE RESIDUALS\n",
    "lr = LinearRegression(fit_intercept=True).fit(df[covars], df[y])\n",
    "y_predicted_by_confound = lr.coef_ @ df[covars].T\n",
    "y_corrected = df[y].T - y_predicted_by_confound\n",
    "df[y_label] = y_corrected\n",
    "\n",
    "# PLOT THE CORRELATION BETWEEN INDEPENDENT VARIABLE AND RESIDUALS\n",
    "sns.regplot(x=x_label, y=y_label, data=df, robust=False, # You can make robust=True to plot skipped correlation, but takes longer to run\n",
    "                scatter_kws={'s':3}, line_kws={\"color\":\"black\"})\n",
    "# PRINT OUT THE CORRELATION STATS\n",
    "all_stat = pingouin.corr(x=df[x_label], y=df[y_label],method='spearman')\n",
    "print(all_stat)\n",
    "plt.show()"
   ]
  },
  {
   "cell_type": "markdown",
   "id": "4514d4a1",
   "metadata": {},
   "source": [
    "## Run cohort-wide correlations and group differences (Figures 3+4)"
   ]
  },
  {
   "cell_type": "code",
   "execution_count": null,
   "id": "4f4cfdf3",
   "metadata": {},
   "outputs": [],
   "source": [
    "# Plot parameters\n",
    "sns.set(rc={'figure.figsize':(10,8)})\n",
    "sns.set(font_scale = 1.6)\n",
    "sns.set_style(\"white\")\n",
    "\n",
    "# Define x_label and group column\n",
    "x_label = 'PDE' # Use composite TOWRE score by defauls ('TOWRE' - composite, 'PDE' - nonword, 'SWE' - single word)\n",
    "hue = 'HT_LT' # Switch to RD_TR to look at clinical diagnoses\n",
    "hue_rev = hue.split('_')[1]+'_'+hue.split('_')[0] # hack to make violinplot order correct\n",
    "\n",
    "# Define covariates for correlation and group difference analyses\n",
    "covars_corr = ['HAND','SEX','gFA']\n",
    "covars_group = covars_corr\n",
    "\n",
    "# Initialize output variable for p-values\n",
    "p_vals_corr = []\n",
    "p_vals_group = []\n",
    "\n",
    "# Create folder for saving plots\n",
    "if not os.path.exists(('figures_'+x_label)):\n",
    "    os.makedirs(('figures_'+x_label))\n",
    "\n",
    "for tract in tracts:\n",
    "    #tract=tract+'2' #use tractometry average instead\n",
    "\n",
    "    # Filter out nans and tract mean FAs less than 0.2\n",
    "    valid_inds = np.asarray(np.invert(np.logical_or(df[tract] < .2, np.isnan(df[tract]))))\n",
    "    df_valid = df.iloc[valid_inds,:]\n",
    "    \n",
    "    # Get indices of High and Low TOWRE participants\n",
    "    inds_high_t_td = np.asarray(df_valid[hue] == 0)\n",
    "    inds_low_t_rd = np.asarray(df_valid[hue] == 1)\n",
    "    \n",
    "    # Define y label name (tract FA residuals)\n",
    "    y_label_corr = tract.replace('_',' ')+' residuals corr'\n",
    "    y_label_group = tract.replace('_',' ')+', residuals group'\n",
    "    \n",
    "    # COMPUTE RESIDUALS FOR CORRELATION AND GROUP ANALYSESS\n",
    "    # get residuals after confounds for correlation analyses (no age)\n",
    "    lr_corr = LinearRegression(fit_intercept=True).fit(df_valid[covars_corr], df_valid[tract])\n",
    "    y_predicted_by_confound = lr_corr.coef_ @ df_valid[covars_corr].T\n",
    "    y_corrected = df_valid[tract].T - y_predicted_by_confound\n",
    "    df_valid[y_label_corr] = y_corrected\n",
    "    # get residuals after confounds for group differences (with age)\n",
    "    lr_group = LinearRegression(fit_intercept=True).fit(df_valid[covars_group], df_valid[tract])\n",
    "    y_predicted_by_confound = lr_group.coef_ @ df_valid[covars_group].T\n",
    "    y_corrected = df_valid[tract].T - y_predicted_by_confound\n",
    "    df_valid[y_label_group] = y_corrected\n",
    "    \n",
    "    # Set up plot\n",
    "    g = sns.JointGrid(data=df_valid, x=x_label, y=y_label_corr, hue=hue)\n",
    "    \n",
    "    # Compute correlations\n",
    "    corr = pingouin.corr(x=df_valid[x_label], y=df_valid[y_label_corr], method='skipped')\n",
    "    # Plot whole cohort correlation\n",
    "    sns.regplot(x=x_label, y=y_label_corr, data=df_valid, robust=False, ax=g.ax_joint, \n",
    "                scatter_kws={'s':0}, line_kws={\"color\":\"black\"})\n",
    "    g.ax_joint.set(ylabel='Fractional Anisotropy Residuals')\n",
    "    \n",
    "    # Compute group difference (additionally controlling for age)\n",
    "    group_diff = pingouin.ttest(df_valid.iloc[inds_high_t_td,:][y_label_group],\n",
    "                                df_valid.iloc[inds_low_t_rd,:][y_label_group])\n",
    "    # Plot group difference violin plot (FOR FIGURE 3)\n",
    "    #sns.violinplot(data=df_valid, x='all', y=y_label_group, hue='LT_HT', ax=g.ax_marg_y, palette=['cyan','red'])\n",
    "    \n",
    "    # Plot all data points (colored for group)\n",
    "    sns.scatterplot(x=x_label,y=y_label_corr, data=df_valid, hue=hue,ax=g.ax_joint, edgecolor=\"black\", palette=['red','cyan'])\n",
    "    plt.ylim([0,.6])\n",
    "\n",
    "    # Remove legends\n",
    "    legend = g.ax_joint.legend()\n",
    "    legend.remove()\n",
    "    legend = g.ax_marg_y.legend()\n",
    "    legend.remove()\n",
    "\n",
    "    # Add descriptive stats and a title text to the figure\n",
    "    plt.text(-8,-.14,\"Spearman's ρ = \"+str(round(corr['r'][0],3)) + \" \" +\n",
    "             str(corr['CI95%'][0]) + ', p = ' + str(round(corr['p-val'][0],4)))\n",
    "    #plt.text(-8,-0.18, 't = '+str(round(group_diff['T'][0],2)) + ' ' +\n",
    "    #         str(group_diff['CI95%'][0]) + ', p = ' + str(round(group_diff['p-val'][0],3))) # UNCOMMENT TO ADD GROUP DIFF TEXT\n",
    "    plt.text(-4.5,.65, tract.replace('_',' '),fontsize=30)\n",
    "    #plt.savefig(('figures_'+x_label+'/'+tract+'_'+x_label),format='pdf', bbox_inches='tight',pad_inches=.5)\n",
    "    plt.show()\n",
    "    \n",
    "    # Save out p-values\n",
    "    p_vals_corr.append(corr['p-val'])\n",
    "    p_vals_group.append(group_diff['p-val'])"
   ]
  },
  {
   "cell_type": "markdown",
   "id": "4c699e97",
   "metadata": {},
   "source": [
    "## Check for significance after multiple comparison correction"
   ]
  },
  {
   "cell_type": "code",
   "execution_count": null,
   "id": "dddc061d",
   "metadata": {},
   "outputs": [],
   "source": [
    "pingouin.multicomp(p_vals_corr, alpha = 0.05, method = 'fdr_bh')"
   ]
  }
 ],
 "metadata": {
  "kernelspec": {
   "display_name": "nipype",
   "language": "python",
   "name": "nipype"
  },
  "language_info": {
   "codemirror_mode": {
    "name": "ipython",
    "version": 3
   },
   "file_extension": ".py",
   "mimetype": "text/x-python",
   "name": "python",
   "nbconvert_exporter": "python",
   "pygments_lexer": "ipython3",
   "version": "3.8.12"
  }
 },
 "nbformat": 4,
 "nbformat_minor": 5
}
