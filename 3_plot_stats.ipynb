{
 "cells": [
  {
   "cell_type": "markdown",
   "id": "67876fe0",
   "metadata": {},
   "source": [
    "# Plot statistical analyses (correlations and group differences)\n",
    "### Start by importing packages and loading the dataframe from the previous step"
   ]
  },
  {
   "cell_type": "code",
   "execution_count": null,
   "id": "0b256ce2",
   "metadata": {},
   "outputs": [],
   "source": [
    "import pandas as pd\n",
    "import numpy as np\n",
    "import matplotlib.pyplot as plt\n",
    "import pingouin\n",
    "import seaborn as sns\n",
    "import os\n",
    "import os.path\n",
    "from sklearn.linear_model import LinearRegression\n",
    "import sklearn.preprocessing\n",
    "\n",
    "df = pd.read_pickle('df.pkl')\n",
    "tracts = ['AF_left','AF_right','SLF_I_left','SLF_I_right','SLF_II_left','SLF_II_right',\n",
    "         'SLF_III_left','SLF_III_right','ILF_left','ILF_right','IFO_left','IFO_right',\n",
    "         'UF_left','UF_right','SCP_left','SCP_right','ICP_left','ICP_right','MCP','CC_7']\n"
   ]
  },
  {
   "cell_type": "markdown",
   "id": "4935137a",
   "metadata": {},
   "source": [
    "## If you want to visuzlize any correlations, do it here. This is just exploratory"
   ]
  },
  {
   "cell_type": "code",
   "execution_count": null,
   "id": "4040a25c",
   "metadata": {},
   "outputs": [],
   "source": [
    "sns.set(rc={'figure.figsize':(11.7,8.27)})\n",
    "sns.set(font_scale = 2)\n",
    "sns.set_style(\"white\") # Format background style\n",
    "\n",
    "x_label = 'AGE' # Set independent variable\n",
    "covars = ['SEX'] # Set covariates\n",
    "y = 'ICV' # Set dependent variable\n",
    "y_label = y+' residuals'\n",
    "\n",
    "# FIT THE REGRESSION WITH COVARIATES TO CALCULATE RESIDUALS\n",
    "lr = LinearRegression(fit_intercept=True).fit(df[covars], df[y])\n",
    "y_predicted_by_confound = lr.coef_ @ df[covars].T\n",
    "y_corrected = df[y].T - y_predicted_by_confound\n",
    "df[y_label] = y_corrected\n",
    "\n",
    "# PLOT THE CORRELATION BETWEEN INDEPENDENT VARIABLE AND RESIDUALS\n",
    "sns.regplot(x=x_label, y=y_label, data=df, robust=False, # You can make robust=True to plot skipped correlation, but takes longer to run\n",
    "                scatter_kws={'s':3}, line_kws={\"color\":\"black\"})\n",
    "# PRINT OUT THE CORRELATION STATS\n",
    "all_stat = pingouin.corr(x=df[x_label], y=df[y_label],method='spearman')\n",
    "print(all_stat)\n",
    "plt.show()"
   ]
  },
  {
   "cell_type": "markdown",
   "id": "f8856d1b",
   "metadata": {},
   "source": [
    "## Run cohort-wide correlations and group differences across all participants"
   ]
  },
  {
   "cell_type": "code",
   "execution_count": null,
   "id": "f9311c6a",
   "metadata": {},
   "outputs": [],
   "source": [
    "# Plot parameters\n",
    "sns.set(rc={'figure.figsize':(10,8)})\n",
    "sns.set(font_scale = 1.6)\n",
    "sns.set_style(\"white\")\n",
    "\n",
    "# Define x_label and group column\n",
    "x_label = 'SWE' # Use composite TOWRE score by defauls ('TOWRE' - composite, 'PDE' - nonword, 'SWE' - single word)\n",
    "hue = 'TR_RD' # Switch to HT_LT to look at groups based off of TOWRE score cutoff\n",
    "hue_rev = hue.split('_')[1]+'_'+hue.split('_')[0] # hack to make violinplot order correct\n",
    "\n",
    "# Define covariates for correlation and group difference analyses\n",
    "covars_corr = ['HAND','SEX','ICV']\n",
    "covars_group = ['HAND','SEX','gFA','AGE','TRRDxSEX']\n",
    "\n",
    "# Initialize output variable for p-values\n",
    "p_vals_corr = []\n",
    "p_vals_group = []\n",
    "\n",
    "# Create folder for saving plots\n",
    "if not os.path.exists(('figures_'+x_label)):\n",
    "    os.makedirs(('figures_'+x_label))\n",
    "\n",
    "for tract in tracts:\n",
    "    #tract=tract+'2' #use tractometry average instead\n",
    "\n",
    "    # Filter out nans and tract mean FAs less than 0.2\n",
    "    valid_inds = np.asarray(np.invert(np.logical_or(df[tract] < .2, np.isnan(df[tract]))))\n",
    "    df_valid = df.iloc[valid_inds,:]\n",
    "    \n",
    "    # De-mean and rescale covariates to unit variance\n",
    "    covars_corr_normed = sklearn.preprocessing.scale(df_valid[covars_corr], with_mean=True, with_std=True, copy=True)\n",
    "    covars_group_normed = sklearn.preprocessing.scale(df_valid[covars_group], with_mean=True, with_std=True, copy=True)\n",
    "\n",
    "    # Get indices of Participants by Group\n",
    "    inds_0 = np.asarray(df_valid[hue] == 0) # HT or TR\n",
    "    inds_1= np.asarray(df_valid[hue] == 1) # LT or RD\n",
    "    \n",
    "    # Define y label name (tract FA residuals)\n",
    "    y_label_corr = tract.replace('_',' ')+' residuals corr'\n",
    "    y_label_group = tract.replace('_',' ')+', residuals group'\n",
    "    \n",
    "    # COMPUTE RESIDUALS FOR CORRELATION ANALYSIS\n",
    "    # get residuals after confounds for correlation analyses (no age)\n",
    "    lr_corr = LinearRegression(fit_intercept=True).fit(covars_corr_normed, df_valid[tract])\n",
    "    y_predicted_by_confound = lr_corr.coef_ @ covars_corr_normed.T\n",
    "    y_corrected = df_valid[tract].T - y_predicted_by_confound\n",
    "    df_valid[y_label_corr] = y_corrected\n",
    "    \n",
    "    # COMPUTE RESIDUALS FOR GROUP ANALYSIS\n",
    "    # get residuals after confounds for group differences (with age)\n",
    "    lr_group = LinearRegression(fit_intercept=True).fit(covars_group_normed, df_valid[tract])\n",
    "    y_predicted_by_confound = lr_group.coef_ @ covars_group_normed.T\n",
    "    y_corrected = df_valid[tract].T - y_predicted_by_confound\n",
    "    df_valid[y_label_group] = y_corrected\n",
    "    \n",
    "    # Set up plot\n",
    "    g = sns.JointGrid(data=df_valid, x=x_label, y=y_label_corr, hue=hue)\n",
    "    \n",
    "    # Compute correlations\n",
    "    corr = pingouin.corr(x=df_valid[x_label], y=df_valid[y_label_corr], method='skipped')\n",
    "    # Plot whole cohort correlation\n",
    "    sns.regplot(x=x_label, y=y_label_corr, data=df_valid, robust=False, ax=g.ax_joint, \n",
    "                scatter_kws={'s':0}, line_kws={\"color\":\"black\"})\n",
    "    g.ax_joint.set(ylabel='Fractional Anisotropy Residuals')\n",
    "    \n",
    "    # Compute group difference\n",
    "    group_diff = pingouin.ttest(df_valid.iloc[inds_0,:][y_label_group],\n",
    "                                df_valid.iloc[inds_1,:][y_label_group])\n",
    "    # Plot group difference violin plot (FOR FIGURE 3)\n",
    "    sns.violinplot(data=df_valid, x='all', y=y_label_group, hue=hue_rev, ax=g.ax_marg_y, palette=['teal','red'])\n",
    "    \n",
    "    # Plot all data points (colored for group)\n",
    "    sns.scatterplot(x=x_label,y=y_label_corr, data=df_valid, hue=hue,ax=g.ax_joint, edgecolor=\"black\", palette=['red','teal'])\n",
    "    plt.ylim([0,.6])\n",
    "\n",
    "    # Remove legends\n",
    "    legend = g.ax_joint.legend()\n",
    "    legend.remove()\n",
    "    legend = g.ax_marg_y.legend()\n",
    "    legend.remove()\n",
    "\n",
    "    # Add descriptive stats and a title text to the figure\n",
    "    plt.text(-8,-.14,\"Spearman's ρ = \"+str(round(corr['r'][0],3)) + \" \" +\n",
    "             str(corr['CI95%'][0]) + ', p = ' + str(round(corr['p-val'][0],4)))\n",
    "    plt.text(-8,-0.18, 't = '+str(round(group_diff['T'][0],2)) + ' ' +\n",
    "             str(group_diff['CI95%'][0]) + ', p = ' + str(round(group_diff['p-val'][0],3))) # UNCOMMENT TO ADD GROUP DIFF TEXT\n",
    "    plt.text(-4.5,.65, tract.replace('_',' '),fontsize=30)\n",
    "    #plt.savefig(('figures_'+x_label+'/'+tract+'_'+x_label),format='pdf', bbox_inches='tight',pad_inches=.5)\n",
    "    plt.show()\n",
    "    \n",
    "    # Save out p-values\n",
    "    p_vals_corr.append(corr['p-val'])\n",
    "    p_vals_group.append(group_diff['p-val'])"
   ]
  },
  {
   "cell_type": "markdown",
   "id": "416bdfe5",
   "metadata": {},
   "source": [
    "## Check for significance after multiple comparison correction"
   ]
  },
  {
   "cell_type": "code",
   "execution_count": null,
   "id": "bef75484",
   "metadata": {},
   "outputs": [],
   "source": [
    "pingouin.multicomp(p_vals_corr, alpha = 0.05, method = 'fdr_bh')"
   ]
  }
 ],
 "metadata": {
  "kernelspec": {
   "display_name": "nipype",
   "language": "python",
   "name": "nipype"
  },
  "language_info": {
   "codemirror_mode": {
    "name": "ipython",
    "version": 3
   },
   "file_extension": ".py",
   "mimetype": "text/x-python",
   "name": "python",
   "nbconvert_exporter": "python",
   "pygments_lexer": "ipython3",
   "version": "3.8.12"
  }
 },
 "nbformat": 4,
 "nbformat_minor": 5
}
